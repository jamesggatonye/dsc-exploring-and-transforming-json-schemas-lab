{
 "cells": [
  {
   "cell_type": "markdown",
   "metadata": {},
   "source": [
    "# Exploring and Transforming JSON Schemas - Lab"
   ]
  },
  {
   "cell_type": "markdown",
   "metadata": {},
   "source": [
    "# Introduction\n",
    "\n",
    "In this lab, you'll practice exploring a JSON file whose structure and schema is unknown to you. We will provide you with limited information, and you will explore the dataset to answer the specified question."
   ]
  },
  {
   "cell_type": "markdown",
   "metadata": {},
   "source": [
    "## Objectives\n",
    "\n",
    "You will be able to:\n",
    "\n",
    "* Use the `json` module to load and parse JSON documents\n",
    "* Explore and extract data using unknown JSON schemas\n",
    "* Convert JSON to a pandas dataframe"
   ]
  },
  {
   "cell_type": "markdown",
   "metadata": {},
   "source": [
    "## Your Task: Create a Bar Graph of the Top 10 States with the Highest Asthma Rates for Adults Age 18+\n",
    "\n",
    "The information you need to create this graph is located in `disease_data.json`. It contains both data and metadata.\n",
    "\n",
    "You are given the following codebook/data dictionary:\n",
    "\n",
    "* The actual data values are associated with the key `'DataValue'`\n",
    "* The state names are associated with the key `'LocationDesc'`\n",
    "* To filter to the appropriate records, make sure:\n",
    "  * The `'Question'` is `'Current asthma prevalence among adults aged >= 18 years'`\n",
    "  * The `'StratificationCategoryID1'` is `'OVERALL'`\n",
    "  * The `'DataValueTypeID'` is `'CRDPREV'`\n",
    "  * The `'LocationDesc'` is not `'United States'`\n",
    "  \n",
    "The provided JSON file contains both data and metadata, and you will need to parse the metadata in order to understand the meanings of the values in the data.\n",
    "\n",
    "No further information about the structure of this file is provided."
   ]
  },
  {
   "cell_type": "markdown",
   "metadata": {},
   "source": [
    "## Load the JSON File\n",
    "\n",
    "Load the data from the file `disease_data.json` into a variable `data`."
   ]
  },
  {
   "cell_type": "code",
   "execution_count": 1,
   "metadata": {},
   "outputs": [],
   "source": [
    "import json\n",
    "with open('disease_data.json') as f:\n",
    "    data = json.load(f)"
   ]
  },
  {
   "cell_type": "markdown",
   "metadata": {},
   "source": [
    "## Explore the Overall Structure\n",
    "\n",
    "What is the overall data type of `data`?"
   ]
  },
  {
   "cell_type": "code",
   "execution_count": 2,
   "metadata": {},
   "outputs": [
    {
     "data": {
      "text/plain": [
       "dict"
      ]
     },
     "execution_count": 2,
     "metadata": {},
     "output_type": "execute_result"
    }
   ],
   "source": [
    "type(data)"
   ]
  },
  {
   "cell_type": "markdown",
   "metadata": {},
   "source": [
    "What are the keys?"
   ]
  },
  {
   "cell_type": "code",
   "execution_count": 3,
   "metadata": {},
   "outputs": [
    {
     "data": {
      "text/plain": [
       "dict_keys(['meta', 'data'])"
      ]
     },
     "execution_count": 3,
     "metadata": {},
     "output_type": "execute_result"
    }
   ],
   "source": [
    "data.keys()"
   ]
  },
  {
   "cell_type": "markdown",
   "metadata": {},
   "source": [
    "What are the data types associates with those keys?"
   ]
  },
  {
   "cell_type": "code",
   "execution_count": 4,
   "metadata": {},
   "outputs": [
    {
     "data": {
      "text/plain": [
       "dict"
      ]
     },
     "execution_count": 4,
     "metadata": {},
     "output_type": "execute_result"
    }
   ],
   "source": [
    "type(data['meta'])"
   ]
  },
  {
   "cell_type": "code",
   "execution_count": 5,
   "metadata": {},
   "outputs": [
    {
     "data": {
      "text/plain": [
       "list"
      ]
     },
     "execution_count": 5,
     "metadata": {},
     "output_type": "execute_result"
    }
   ],
   "source": [
    "type(data['data'])"
   ]
  },
  {
   "cell_type": "markdown",
   "metadata": {},
   "source": [
    "Perform additional exploration to understand the contents of these values. For dictionaries, what are their keys? For lists, what is the length, and what does the first element look like?"
   ]
  },
  {
   "cell_type": "code",
   "execution_count": 6,
   "metadata": {},
   "outputs": [
    {
     "data": {
      "text/plain": [
       "dict_keys(['view'])"
      ]
     },
     "execution_count": 6,
     "metadata": {},
     "output_type": "execute_result"
    }
   ],
   "source": [
    "data['meta'].keys()"
   ]
  },
  {
   "cell_type": "code",
   "execution_count": 7,
   "metadata": {},
   "outputs": [
    {
     "name": "stdout",
     "output_type": "stream",
     "text": [
      "view <class 'dict'>\n"
     ]
    }
   ],
   "source": [
    "for key in data['meta'].keys():\n",
    "    print(key, type(data['meta'][key]))"
   ]
  },
  {
   "cell_type": "code",
   "execution_count": 8,
   "metadata": {},
   "outputs": [
    {
     "data": {
      "text/plain": [
       "dict"
      ]
     },
     "execution_count": 8,
     "metadata": {},
     "output_type": "execute_result"
    }
   ],
   "source": [
    "type(data['meta']['view'])"
   ]
  },
  {
   "cell_type": "code",
   "execution_count": 9,
   "metadata": {},
   "outputs": [
    {
     "data": {
      "text/plain": [
       "40"
      ]
     },
     "execution_count": 9,
     "metadata": {},
     "output_type": "execute_result"
    }
   ],
   "source": [
    "len(data['meta']['view'])"
   ]
  },
  {
   "cell_type": "code",
   "execution_count": 10,
   "metadata": {},
   "outputs": [
    {
     "data": {
      "text/plain": [
       "dict_keys(['id', 'name', 'attribution', 'attributionLink', 'averageRating', 'category', 'createdAt', 'description', 'displayType', 'downloadCount', 'hideFromCatalog', 'hideFromDataJson', 'indexUpdatedAt', 'licenseId', 'newBackend', 'numberOfComments', 'oid', 'provenance', 'publicationAppendEnabled', 'publicationDate', 'publicationGroup', 'publicationStage', 'rowClass', 'rowsUpdatedAt', 'rowsUpdatedBy', 'tableId', 'totalTimesRated', 'viewCount', 'viewLastModified', 'viewType', 'columns', 'grants', 'license', 'metadata', 'owner', 'query', 'rights', 'tableAuthor', 'tags', 'flags'])"
      ]
     },
     "execution_count": 10,
     "metadata": {},
     "output_type": "execute_result"
    }
   ],
   "source": [
    "data['meta']['view'].keys()"
   ]
  },
  {
   "cell_type": "markdown",
   "metadata": {},
   "source": [
    "As you likely identified, we have a list of lists forming the `'data'`. In order to make sense of that list of lists, we need to find the meaning of each index, i.e. the names of the columns.\n",
    "\n",
    "## Identify the Column Names\n",
    "\n",
    "Look through the metadata to find the *names* of the columns, and assign that variable to `column_names`. This should be a list of strings. (If you just get the values associated with the `'columns'` key, you will have a list of dictionaries, not a list of strings.)"
   ]
  },
  {
   "cell_type": "code",
   "execution_count": 20,
   "metadata": {},
   "outputs": [
    {
     "data": {
      "text/plain": [
       "['sid',\n",
       " 'id',\n",
       " 'position',\n",
       " 'created_at',\n",
       " 'created_meta',\n",
       " 'updated_at',\n",
       " 'updated_meta',\n",
       " 'meta',\n",
       " 'YearStart',\n",
       " 'YearEnd',\n",
       " 'LocationAbbr',\n",
       " 'LocationDesc',\n",
       " 'DataSource',\n",
       " 'Topic',\n",
       " 'Question',\n",
       " 'Response',\n",
       " 'DataValueUnit',\n",
       " 'DataValueType',\n",
       " 'DataValue',\n",
       " 'DataValueAlt',\n",
       " 'DataValueFootnoteSymbol',\n",
       " 'DatavalueFootnote',\n",
       " 'LowConfidenceLimit',\n",
       " 'HighConfidenceLimit',\n",
       " 'StratificationCategory1',\n",
       " 'Stratification1',\n",
       " 'StratificationCategory2',\n",
       " 'Stratification2',\n",
       " 'StratificationCategory3',\n",
       " 'Stratification3',\n",
       " 'GeoLocation',\n",
       " 'ResponseID',\n",
       " 'LocationID',\n",
       " 'TopicID',\n",
       " 'QuestionID',\n",
       " 'DataValueTypeID',\n",
       " 'StratificationCategoryID1',\n",
       " 'StratificationID1',\n",
       " 'StratificationCategoryID2',\n",
       " 'StratificationID2',\n",
       " 'StratificationCategoryID3',\n",
       " 'StratificationID3']"
      ]
     },
     "execution_count": 20,
     "metadata": {},
     "output_type": "execute_result"
    }
   ],
   "source": [
    "column_names =  [data[\"meta\"][\"view\"][\"columns\"][num][\"name\"] for num in range(0, len(data[\"meta\"][\"view\"][\"columns\"]))]\n",
    "\n",
    "column_names"
   ]
  },
  {
   "cell_type": "markdown",
   "metadata": {},
   "source": [
    "The following code checks that you have the correct column names:"
   ]
  },
  {
   "cell_type": "code",
   "execution_count": 18,
   "metadata": {},
   "outputs": [
    {
     "ename": "AssertionError",
     "evalue": "",
     "output_type": "error",
     "traceback": [
      "\u001b[1;31m---------------------------------------------------------------------------\u001b[0m",
      "\u001b[1;31mAssertionError\u001b[0m                            Traceback (most recent call last)",
      "\u001b[1;32m<ipython-input-18-a3dd5a1e5afe>\u001b[0m in \u001b[0;36m<module>\u001b[1;34m\u001b[0m\n\u001b[0;32m      2\u001b[0m \u001b[1;33m\u001b[0m\u001b[0m\n\u001b[0;32m      3\u001b[0m \u001b[1;31m# 42 total columns\u001b[0m\u001b[1;33m\u001b[0m\u001b[1;33m\u001b[0m\u001b[1;33m\u001b[0m\u001b[0m\n\u001b[1;32m----> 4\u001b[1;33m \u001b[1;32massert\u001b[0m \u001b[0mlen\u001b[0m\u001b[1;33m(\u001b[0m\u001b[0mcolumn_names\u001b[0m\u001b[1;33m)\u001b[0m \u001b[1;33m==\u001b[0m \u001b[1;36m42\u001b[0m\u001b[1;33m\u001b[0m\u001b[1;33m\u001b[0m\u001b[0m\n\u001b[0m\u001b[0;32m      5\u001b[0m \u001b[1;33m\u001b[0m\u001b[0m\n\u001b[0;32m      6\u001b[0m \u001b[1;31m# Each name should be a string, not a dict\u001b[0m\u001b[1;33m\u001b[0m\u001b[1;33m\u001b[0m\u001b[1;33m\u001b[0m\u001b[0m\n",
      "\u001b[1;31mAssertionError\u001b[0m: "
     ]
    }
   ],
   "source": [
    "# Run this cell without changes\n",
    "\n",
    "# 42 total columns\n",
    "assert len(column_names) == 42\n",
    "\n",
    "# Each name should be a string, not a dict\n",
    "assert type(column_names[0]) == str and type(column_names[-1]) == str\n",
    "\n",
    "# Check that we have some specific strings\n",
    "assert \"DataValue\" in column_names\n",
    "assert \"LocationDesc\" in column_names\n",
    "assert \"Question\" in column_names\n",
    "assert \"StratificationCategoryID1\" in column_names\n",
    "assert \"DataValueTypeID\" in column_names"
   ]
  },
  {
   "cell_type": "markdown",
   "metadata": {},
   "source": [
    "## Filter Rows Based on Columns\n",
    "\n",
    "Recall that we only want to include records where:\n",
    "\n",
    "* The `'Question'` is `'Current asthma prevalence among adults aged >= 18 years'`\n",
    "* The `'StratificationCategoryID1'` is `'OVERALL'`\n",
    "* The `'DataValueTypeID'` is `'CRDPREV'`\n",
    "* The `'LocationDesc'` is not `'United States'`\n",
    "\n",
    "Combining knowledge of the data and metadata, filter out the rows of data that are not relevant.\n",
    "\n",
    "(You may find the `pandas` library useful here.)"
   ]
  },
  {
   "cell_type": "code",
   "execution_count": 21,
   "metadata": {},
   "outputs": [
    {
     "data": {
      "text/html": [
       "<div>\n",
       "<style scoped>\n",
       "    .dataframe tbody tr th:only-of-type {\n",
       "        vertical-align: middle;\n",
       "    }\n",
       "\n",
       "    .dataframe tbody tr th {\n",
       "        vertical-align: top;\n",
       "    }\n",
       "\n",
       "    .dataframe thead th {\n",
       "        text-align: right;\n",
       "    }\n",
       "</style>\n",
       "<table border=\"1\" class=\"dataframe\">\n",
       "  <thead>\n",
       "    <tr style=\"text-align: right;\">\n",
       "      <th></th>\n",
       "      <th>Question</th>\n",
       "      <th>StratificationCategoryID1</th>\n",
       "      <th>DataValueTypeID</th>\n",
       "      <th>LocationDesc</th>\n",
       "      <th>DataValue</th>\n",
       "    </tr>\n",
       "  </thead>\n",
       "  <tbody>\n",
       "    <tr>\n",
       "      <th>9371</th>\n",
       "      <td>Current asthma prevalence among adults aged &gt;=...</td>\n",
       "      <td>OVERALL</td>\n",
       "      <td>CRDPREV</td>\n",
       "      <td>Alabama</td>\n",
       "      <td>9.7</td>\n",
       "    </tr>\n",
       "    <tr>\n",
       "      <th>9372</th>\n",
       "      <td>Current asthma prevalence among adults aged &gt;=...</td>\n",
       "      <td>OVERALL</td>\n",
       "      <td>CRDPREV</td>\n",
       "      <td>Alaska</td>\n",
       "      <td>8.8</td>\n",
       "    </tr>\n",
       "    <tr>\n",
       "      <th>9373</th>\n",
       "      <td>Current asthma prevalence among adults aged &gt;=...</td>\n",
       "      <td>OVERALL</td>\n",
       "      <td>CRDPREV</td>\n",
       "      <td>Arizona</td>\n",
       "      <td>9.4</td>\n",
       "    </tr>\n",
       "    <tr>\n",
       "      <th>9374</th>\n",
       "      <td>Current asthma prevalence among adults aged &gt;=...</td>\n",
       "      <td>OVERALL</td>\n",
       "      <td>CRDPREV</td>\n",
       "      <td>Arkansas</td>\n",
       "      <td>8.5</td>\n",
       "    </tr>\n",
       "    <tr>\n",
       "      <th>9375</th>\n",
       "      <td>Current asthma prevalence among adults aged &gt;=...</td>\n",
       "      <td>OVERALL</td>\n",
       "      <td>CRDPREV</td>\n",
       "      <td>California</td>\n",
       "      <td>7.8</td>\n",
       "    </tr>\n",
       "    <tr>\n",
       "      <th>9376</th>\n",
       "      <td>Current asthma prevalence among adults aged &gt;=...</td>\n",
       "      <td>OVERALL</td>\n",
       "      <td>CRDPREV</td>\n",
       "      <td>Colorado</td>\n",
       "      <td>8.8</td>\n",
       "    </tr>\n",
       "    <tr>\n",
       "      <th>9377</th>\n",
       "      <td>Current asthma prevalence among adults aged &gt;=...</td>\n",
       "      <td>OVERALL</td>\n",
       "      <td>CRDPREV</td>\n",
       "      <td>Connecticut</td>\n",
       "      <td>10.5</td>\n",
       "    </tr>\n",
       "    <tr>\n",
       "      <th>9378</th>\n",
       "      <td>Current asthma prevalence among adults aged &gt;=...</td>\n",
       "      <td>OVERALL</td>\n",
       "      <td>CRDPREV</td>\n",
       "      <td>Delaware</td>\n",
       "      <td>8.5</td>\n",
       "    </tr>\n",
       "    <tr>\n",
       "      <th>9379</th>\n",
       "      <td>Current asthma prevalence among adults aged &gt;=...</td>\n",
       "      <td>OVERALL</td>\n",
       "      <td>CRDPREV</td>\n",
       "      <td>District of Columbia</td>\n",
       "      <td>9.8</td>\n",
       "    </tr>\n",
       "    <tr>\n",
       "      <th>9380</th>\n",
       "      <td>Current asthma prevalence among adults aged &gt;=...</td>\n",
       "      <td>OVERALL</td>\n",
       "      <td>CRDPREV</td>\n",
       "      <td>Florida</td>\n",
       "      <td>6.7</td>\n",
       "    </tr>\n",
       "    <tr>\n",
       "      <th>9381</th>\n",
       "      <td>Current asthma prevalence among adults aged &gt;=...</td>\n",
       "      <td>OVERALL</td>\n",
       "      <td>CRDPREV</td>\n",
       "      <td>Georgia</td>\n",
       "      <td>8.5</td>\n",
       "    </tr>\n",
       "    <tr>\n",
       "      <th>9382</th>\n",
       "      <td>Current asthma prevalence among adults aged &gt;=...</td>\n",
       "      <td>OVERALL</td>\n",
       "      <td>CRDPREV</td>\n",
       "      <td>Hawaii</td>\n",
       "      <td>10.7</td>\n",
       "    </tr>\n",
       "    <tr>\n",
       "      <th>9383</th>\n",
       "      <td>Current asthma prevalence among adults aged &gt;=...</td>\n",
       "      <td>OVERALL</td>\n",
       "      <td>CRDPREV</td>\n",
       "      <td>Idaho</td>\n",
       "      <td>9.3</td>\n",
       "    </tr>\n",
       "    <tr>\n",
       "      <th>9384</th>\n",
       "      <td>Current asthma prevalence among adults aged &gt;=...</td>\n",
       "      <td>OVERALL</td>\n",
       "      <td>CRDPREV</td>\n",
       "      <td>Illinois</td>\n",
       "      <td>8.9</td>\n",
       "    </tr>\n",
       "    <tr>\n",
       "      <th>9385</th>\n",
       "      <td>Current asthma prevalence among adults aged &gt;=...</td>\n",
       "      <td>OVERALL</td>\n",
       "      <td>CRDPREV</td>\n",
       "      <td>Indiana</td>\n",
       "      <td>10.2</td>\n",
       "    </tr>\n",
       "    <tr>\n",
       "      <th>9386</th>\n",
       "      <td>Current asthma prevalence among adults aged &gt;=...</td>\n",
       "      <td>OVERALL</td>\n",
       "      <td>CRDPREV</td>\n",
       "      <td>Iowa</td>\n",
       "      <td>7.8</td>\n",
       "    </tr>\n",
       "    <tr>\n",
       "      <th>9387</th>\n",
       "      <td>Current asthma prevalence among adults aged &gt;=...</td>\n",
       "      <td>OVERALL</td>\n",
       "      <td>CRDPREV</td>\n",
       "      <td>Kansas</td>\n",
       "      <td>8.8</td>\n",
       "    </tr>\n",
       "    <tr>\n",
       "      <th>9388</th>\n",
       "      <td>Current asthma prevalence among adults aged &gt;=...</td>\n",
       "      <td>OVERALL</td>\n",
       "      <td>CRDPREV</td>\n",
       "      <td>Kentucky</td>\n",
       "      <td>11.6</td>\n",
       "    </tr>\n",
       "    <tr>\n",
       "      <th>9389</th>\n",
       "      <td>Current asthma prevalence among adults aged &gt;=...</td>\n",
       "      <td>OVERALL</td>\n",
       "      <td>CRDPREV</td>\n",
       "      <td>Louisiana</td>\n",
       "      <td>8.3</td>\n",
       "    </tr>\n",
       "    <tr>\n",
       "      <th>9390</th>\n",
       "      <td>Current asthma prevalence among adults aged &gt;=...</td>\n",
       "      <td>OVERALL</td>\n",
       "      <td>CRDPREV</td>\n",
       "      <td>Maine</td>\n",
       "      <td>12.2</td>\n",
       "    </tr>\n",
       "    <tr>\n",
       "      <th>9391</th>\n",
       "      <td>Current asthma prevalence among adults aged &gt;=...</td>\n",
       "      <td>OVERALL</td>\n",
       "      <td>CRDPREV</td>\n",
       "      <td>Maryland</td>\n",
       "      <td>9.4</td>\n",
       "    </tr>\n",
       "    <tr>\n",
       "      <th>9392</th>\n",
       "      <td>Current asthma prevalence among adults aged &gt;=...</td>\n",
       "      <td>OVERALL</td>\n",
       "      <td>CRDPREV</td>\n",
       "      <td>Massachusetts</td>\n",
       "      <td>10.3</td>\n",
       "    </tr>\n",
       "    <tr>\n",
       "      <th>9393</th>\n",
       "      <td>Current asthma prevalence among adults aged &gt;=...</td>\n",
       "      <td>OVERALL</td>\n",
       "      <td>CRDPREV</td>\n",
       "      <td>Michigan</td>\n",
       "      <td>10.9</td>\n",
       "    </tr>\n",
       "    <tr>\n",
       "      <th>9394</th>\n",
       "      <td>Current asthma prevalence among adults aged &gt;=...</td>\n",
       "      <td>OVERALL</td>\n",
       "      <td>CRDPREV</td>\n",
       "      <td>Minnesota</td>\n",
       "      <td>7.6</td>\n",
       "    </tr>\n",
       "    <tr>\n",
       "      <th>9395</th>\n",
       "      <td>Current asthma prevalence among adults aged &gt;=...</td>\n",
       "      <td>OVERALL</td>\n",
       "      <td>CRDPREV</td>\n",
       "      <td>Mississippi</td>\n",
       "      <td>8</td>\n",
       "    </tr>\n",
       "    <tr>\n",
       "      <th>9396</th>\n",
       "      <td>Current asthma prevalence among adults aged &gt;=...</td>\n",
       "      <td>OVERALL</td>\n",
       "      <td>CRDPREV</td>\n",
       "      <td>Missouri</td>\n",
       "      <td>9.9</td>\n",
       "    </tr>\n",
       "    <tr>\n",
       "      <th>9397</th>\n",
       "      <td>Current asthma prevalence among adults aged &gt;=...</td>\n",
       "      <td>OVERALL</td>\n",
       "      <td>CRDPREV</td>\n",
       "      <td>Montana</td>\n",
       "      <td>8.5</td>\n",
       "    </tr>\n",
       "    <tr>\n",
       "      <th>9398</th>\n",
       "      <td>Current asthma prevalence among adults aged &gt;=...</td>\n",
       "      <td>OVERALL</td>\n",
       "      <td>CRDPREV</td>\n",
       "      <td>Nebraska</td>\n",
       "      <td>8.3</td>\n",
       "    </tr>\n",
       "    <tr>\n",
       "      <th>9399</th>\n",
       "      <td>Current asthma prevalence among adults aged &gt;=...</td>\n",
       "      <td>OVERALL</td>\n",
       "      <td>CRDPREV</td>\n",
       "      <td>Nevada</td>\n",
       "      <td>7.9</td>\n",
       "    </tr>\n",
       "    <tr>\n",
       "      <th>9400</th>\n",
       "      <td>Current asthma prevalence among adults aged &gt;=...</td>\n",
       "      <td>OVERALL</td>\n",
       "      <td>CRDPREV</td>\n",
       "      <td>New Hampshire</td>\n",
       "      <td>11.4</td>\n",
       "    </tr>\n",
       "    <tr>\n",
       "      <th>9401</th>\n",
       "      <td>Current asthma prevalence among adults aged &gt;=...</td>\n",
       "      <td>OVERALL</td>\n",
       "      <td>CRDPREV</td>\n",
       "      <td>New Jersey</td>\n",
       "      <td>8.2</td>\n",
       "    </tr>\n",
       "    <tr>\n",
       "      <th>9402</th>\n",
       "      <td>Current asthma prevalence among adults aged &gt;=...</td>\n",
       "      <td>OVERALL</td>\n",
       "      <td>CRDPREV</td>\n",
       "      <td>New Mexico</td>\n",
       "      <td>11.8</td>\n",
       "    </tr>\n",
       "    <tr>\n",
       "      <th>9403</th>\n",
       "      <td>Current asthma prevalence among adults aged &gt;=...</td>\n",
       "      <td>OVERALL</td>\n",
       "      <td>CRDPREV</td>\n",
       "      <td>New York</td>\n",
       "      <td>9.5</td>\n",
       "    </tr>\n",
       "    <tr>\n",
       "      <th>9404</th>\n",
       "      <td>Current asthma prevalence among adults aged &gt;=...</td>\n",
       "      <td>OVERALL</td>\n",
       "      <td>CRDPREV</td>\n",
       "      <td>North Carolina</td>\n",
       "      <td>8</td>\n",
       "    </tr>\n",
       "    <tr>\n",
       "      <th>9405</th>\n",
       "      <td>Current asthma prevalence among adults aged &gt;=...</td>\n",
       "      <td>OVERALL</td>\n",
       "      <td>CRDPREV</td>\n",
       "      <td>North Dakota</td>\n",
       "      <td>9</td>\n",
       "    </tr>\n",
       "    <tr>\n",
       "      <th>9406</th>\n",
       "      <td>Current asthma prevalence among adults aged &gt;=...</td>\n",
       "      <td>OVERALL</td>\n",
       "      <td>CRDPREV</td>\n",
       "      <td>Ohio</td>\n",
       "      <td>9.7</td>\n",
       "    </tr>\n",
       "    <tr>\n",
       "      <th>9407</th>\n",
       "      <td>Current asthma prevalence among adults aged &gt;=...</td>\n",
       "      <td>OVERALL</td>\n",
       "      <td>CRDPREV</td>\n",
       "      <td>Oklahoma</td>\n",
       "      <td>10</td>\n",
       "    </tr>\n",
       "    <tr>\n",
       "      <th>9408</th>\n",
       "      <td>Current asthma prevalence among adults aged &gt;=...</td>\n",
       "      <td>OVERALL</td>\n",
       "      <td>CRDPREV</td>\n",
       "      <td>Oregon</td>\n",
       "      <td>10.5</td>\n",
       "    </tr>\n",
       "    <tr>\n",
       "      <th>9409</th>\n",
       "      <td>Current asthma prevalence among adults aged &gt;=...</td>\n",
       "      <td>OVERALL</td>\n",
       "      <td>CRDPREV</td>\n",
       "      <td>Pennsylvania</td>\n",
       "      <td>10.6</td>\n",
       "    </tr>\n",
       "    <tr>\n",
       "      <th>9410</th>\n",
       "      <td>Current asthma prevalence among adults aged &gt;=...</td>\n",
       "      <td>OVERALL</td>\n",
       "      <td>CRDPREV</td>\n",
       "      <td>Rhode Island</td>\n",
       "      <td>10.7</td>\n",
       "    </tr>\n",
       "    <tr>\n",
       "      <th>9411</th>\n",
       "      <td>Current asthma prevalence among adults aged &gt;=...</td>\n",
       "      <td>OVERALL</td>\n",
       "      <td>CRDPREV</td>\n",
       "      <td>South Carolina</td>\n",
       "      <td>8.8</td>\n",
       "    </tr>\n",
       "    <tr>\n",
       "      <th>9412</th>\n",
       "      <td>Current asthma prevalence among adults aged &gt;=...</td>\n",
       "      <td>OVERALL</td>\n",
       "      <td>CRDPREV</td>\n",
       "      <td>South Dakota</td>\n",
       "      <td>6.2</td>\n",
       "    </tr>\n",
       "    <tr>\n",
       "      <th>9413</th>\n",
       "      <td>Current asthma prevalence among adults aged &gt;=...</td>\n",
       "      <td>OVERALL</td>\n",
       "      <td>CRDPREV</td>\n",
       "      <td>Tennessee</td>\n",
       "      <td>10.9</td>\n",
       "    </tr>\n",
       "    <tr>\n",
       "      <th>9414</th>\n",
       "      <td>Current asthma prevalence among adults aged &gt;=...</td>\n",
       "      <td>OVERALL</td>\n",
       "      <td>CRDPREV</td>\n",
       "      <td>Texas</td>\n",
       "      <td>7.6</td>\n",
       "    </tr>\n",
       "    <tr>\n",
       "      <th>9415</th>\n",
       "      <td>Current asthma prevalence among adults aged &gt;=...</td>\n",
       "      <td>OVERALL</td>\n",
       "      <td>CRDPREV</td>\n",
       "      <td>Utah</td>\n",
       "      <td>8.2</td>\n",
       "    </tr>\n",
       "    <tr>\n",
       "      <th>9416</th>\n",
       "      <td>Current asthma prevalence among adults aged &gt;=...</td>\n",
       "      <td>OVERALL</td>\n",
       "      <td>CRDPREV</td>\n",
       "      <td>Vermont</td>\n",
       "      <td>10.2</td>\n",
       "    </tr>\n",
       "    <tr>\n",
       "      <th>9417</th>\n",
       "      <td>Current asthma prevalence among adults aged &gt;=...</td>\n",
       "      <td>OVERALL</td>\n",
       "      <td>CRDPREV</td>\n",
       "      <td>Virginia</td>\n",
       "      <td>8.6</td>\n",
       "    </tr>\n",
       "    <tr>\n",
       "      <th>9418</th>\n",
       "      <td>Current asthma prevalence among adults aged &gt;=...</td>\n",
       "      <td>OVERALL</td>\n",
       "      <td>CRDPREV</td>\n",
       "      <td>Washington</td>\n",
       "      <td>9.6</td>\n",
       "    </tr>\n",
       "    <tr>\n",
       "      <th>9419</th>\n",
       "      <td>Current asthma prevalence among adults aged &gt;=...</td>\n",
       "      <td>OVERALL</td>\n",
       "      <td>CRDPREV</td>\n",
       "      <td>West Virginia</td>\n",
       "      <td>11.8</td>\n",
       "    </tr>\n",
       "    <tr>\n",
       "      <th>9420</th>\n",
       "      <td>Current asthma prevalence among adults aged &gt;=...</td>\n",
       "      <td>OVERALL</td>\n",
       "      <td>CRDPREV</td>\n",
       "      <td>Wisconsin</td>\n",
       "      <td>8.5</td>\n",
       "    </tr>\n",
       "    <tr>\n",
       "      <th>9421</th>\n",
       "      <td>Current asthma prevalence among adults aged &gt;=...</td>\n",
       "      <td>OVERALL</td>\n",
       "      <td>CRDPREV</td>\n",
       "      <td>Wyoming</td>\n",
       "      <td>9.5</td>\n",
       "    </tr>\n",
       "    <tr>\n",
       "      <th>9422</th>\n",
       "      <td>Current asthma prevalence among adults aged &gt;=...</td>\n",
       "      <td>OVERALL</td>\n",
       "      <td>CRDPREV</td>\n",
       "      <td>Guam</td>\n",
       "      <td>5.1</td>\n",
       "    </tr>\n",
       "    <tr>\n",
       "      <th>9423</th>\n",
       "      <td>Current asthma prevalence among adults aged &gt;=...</td>\n",
       "      <td>OVERALL</td>\n",
       "      <td>CRDPREV</td>\n",
       "      <td>Puerto Rico</td>\n",
       "      <td>10.7</td>\n",
       "    </tr>\n",
       "    <tr>\n",
       "      <th>9424</th>\n",
       "      <td>Current asthma prevalence among adults aged &gt;=...</td>\n",
       "      <td>OVERALL</td>\n",
       "      <td>CRDPREV</td>\n",
       "      <td>Virgin Islands</td>\n",
       "      <td>6.3</td>\n",
       "    </tr>\n",
       "  </tbody>\n",
       "</table>\n",
       "</div>"
      ],
      "text/plain": [
       "                                               Question  \\\n",
       "9371  Current asthma prevalence among adults aged >=...   \n",
       "9372  Current asthma prevalence among adults aged >=...   \n",
       "9373  Current asthma prevalence among adults aged >=...   \n",
       "9374  Current asthma prevalence among adults aged >=...   \n",
       "9375  Current asthma prevalence among adults aged >=...   \n",
       "9376  Current asthma prevalence among adults aged >=...   \n",
       "9377  Current asthma prevalence among adults aged >=...   \n",
       "9378  Current asthma prevalence among adults aged >=...   \n",
       "9379  Current asthma prevalence among adults aged >=...   \n",
       "9380  Current asthma prevalence among adults aged >=...   \n",
       "9381  Current asthma prevalence among adults aged >=...   \n",
       "9382  Current asthma prevalence among adults aged >=...   \n",
       "9383  Current asthma prevalence among adults aged >=...   \n",
       "9384  Current asthma prevalence among adults aged >=...   \n",
       "9385  Current asthma prevalence among adults aged >=...   \n",
       "9386  Current asthma prevalence among adults aged >=...   \n",
       "9387  Current asthma prevalence among adults aged >=...   \n",
       "9388  Current asthma prevalence among adults aged >=...   \n",
       "9389  Current asthma prevalence among adults aged >=...   \n",
       "9390  Current asthma prevalence among adults aged >=...   \n",
       "9391  Current asthma prevalence among adults aged >=...   \n",
       "9392  Current asthma prevalence among adults aged >=...   \n",
       "9393  Current asthma prevalence among adults aged >=...   \n",
       "9394  Current asthma prevalence among adults aged >=...   \n",
       "9395  Current asthma prevalence among adults aged >=...   \n",
       "9396  Current asthma prevalence among adults aged >=...   \n",
       "9397  Current asthma prevalence among adults aged >=...   \n",
       "9398  Current asthma prevalence among adults aged >=...   \n",
       "9399  Current asthma prevalence among adults aged >=...   \n",
       "9400  Current asthma prevalence among adults aged >=...   \n",
       "9401  Current asthma prevalence among adults aged >=...   \n",
       "9402  Current asthma prevalence among adults aged >=...   \n",
       "9403  Current asthma prevalence among adults aged >=...   \n",
       "9404  Current asthma prevalence among adults aged >=...   \n",
       "9405  Current asthma prevalence among adults aged >=...   \n",
       "9406  Current asthma prevalence among adults aged >=...   \n",
       "9407  Current asthma prevalence among adults aged >=...   \n",
       "9408  Current asthma prevalence among adults aged >=...   \n",
       "9409  Current asthma prevalence among adults aged >=...   \n",
       "9410  Current asthma prevalence among adults aged >=...   \n",
       "9411  Current asthma prevalence among adults aged >=...   \n",
       "9412  Current asthma prevalence among adults aged >=...   \n",
       "9413  Current asthma prevalence among adults aged >=...   \n",
       "9414  Current asthma prevalence among adults aged >=...   \n",
       "9415  Current asthma prevalence among adults aged >=...   \n",
       "9416  Current asthma prevalence among adults aged >=...   \n",
       "9417  Current asthma prevalence among adults aged >=...   \n",
       "9418  Current asthma prevalence among adults aged >=...   \n",
       "9419  Current asthma prevalence among adults aged >=...   \n",
       "9420  Current asthma prevalence among adults aged >=...   \n",
       "9421  Current asthma prevalence among adults aged >=...   \n",
       "9422  Current asthma prevalence among adults aged >=...   \n",
       "9423  Current asthma prevalence among adults aged >=...   \n",
       "9424  Current asthma prevalence among adults aged >=...   \n",
       "\n",
       "     StratificationCategoryID1 DataValueTypeID          LocationDesc DataValue  \n",
       "9371                   OVERALL         CRDPREV               Alabama       9.7  \n",
       "9372                   OVERALL         CRDPREV                Alaska       8.8  \n",
       "9373                   OVERALL         CRDPREV               Arizona       9.4  \n",
       "9374                   OVERALL         CRDPREV              Arkansas       8.5  \n",
       "9375                   OVERALL         CRDPREV            California       7.8  \n",
       "9376                   OVERALL         CRDPREV              Colorado       8.8  \n",
       "9377                   OVERALL         CRDPREV           Connecticut      10.5  \n",
       "9378                   OVERALL         CRDPREV              Delaware       8.5  \n",
       "9379                   OVERALL         CRDPREV  District of Columbia       9.8  \n",
       "9380                   OVERALL         CRDPREV               Florida       6.7  \n",
       "9381                   OVERALL         CRDPREV               Georgia       8.5  \n",
       "9382                   OVERALL         CRDPREV                Hawaii      10.7  \n",
       "9383                   OVERALL         CRDPREV                 Idaho       9.3  \n",
       "9384                   OVERALL         CRDPREV              Illinois       8.9  \n",
       "9385                   OVERALL         CRDPREV               Indiana      10.2  \n",
       "9386                   OVERALL         CRDPREV                  Iowa       7.8  \n",
       "9387                   OVERALL         CRDPREV                Kansas       8.8  \n",
       "9388                   OVERALL         CRDPREV              Kentucky      11.6  \n",
       "9389                   OVERALL         CRDPREV             Louisiana       8.3  \n",
       "9390                   OVERALL         CRDPREV                 Maine      12.2  \n",
       "9391                   OVERALL         CRDPREV              Maryland       9.4  \n",
       "9392                   OVERALL         CRDPREV         Massachusetts      10.3  \n",
       "9393                   OVERALL         CRDPREV              Michigan      10.9  \n",
       "9394                   OVERALL         CRDPREV             Minnesota       7.6  \n",
       "9395                   OVERALL         CRDPREV           Mississippi         8  \n",
       "9396                   OVERALL         CRDPREV              Missouri       9.9  \n",
       "9397                   OVERALL         CRDPREV               Montana       8.5  \n",
       "9398                   OVERALL         CRDPREV              Nebraska       8.3  \n",
       "9399                   OVERALL         CRDPREV                Nevada       7.9  \n",
       "9400                   OVERALL         CRDPREV         New Hampshire      11.4  \n",
       "9401                   OVERALL         CRDPREV            New Jersey       8.2  \n",
       "9402                   OVERALL         CRDPREV            New Mexico      11.8  \n",
       "9403                   OVERALL         CRDPREV              New York       9.5  \n",
       "9404                   OVERALL         CRDPREV        North Carolina         8  \n",
       "9405                   OVERALL         CRDPREV          North Dakota         9  \n",
       "9406                   OVERALL         CRDPREV                  Ohio       9.7  \n",
       "9407                   OVERALL         CRDPREV              Oklahoma        10  \n",
       "9408                   OVERALL         CRDPREV                Oregon      10.5  \n",
       "9409                   OVERALL         CRDPREV          Pennsylvania      10.6  \n",
       "9410                   OVERALL         CRDPREV          Rhode Island      10.7  \n",
       "9411                   OVERALL         CRDPREV        South Carolina       8.8  \n",
       "9412                   OVERALL         CRDPREV          South Dakota       6.2  \n",
       "9413                   OVERALL         CRDPREV             Tennessee      10.9  \n",
       "9414                   OVERALL         CRDPREV                 Texas       7.6  \n",
       "9415                   OVERALL         CRDPREV                  Utah       8.2  \n",
       "9416                   OVERALL         CRDPREV               Vermont      10.2  \n",
       "9417                   OVERALL         CRDPREV              Virginia       8.6  \n",
       "9418                   OVERALL         CRDPREV            Washington       9.6  \n",
       "9419                   OVERALL         CRDPREV         West Virginia      11.8  \n",
       "9420                   OVERALL         CRDPREV             Wisconsin       8.5  \n",
       "9421                   OVERALL         CRDPREV               Wyoming       9.5  \n",
       "9422                   OVERALL         CRDPREV                  Guam       5.1  \n",
       "9423                   OVERALL         CRDPREV           Puerto Rico      10.7  \n",
       "9424                   OVERALL         CRDPREV        Virgin Islands       6.3  "
      ]
     },
     "execution_count": 21,
     "metadata": {},
     "output_type": "execute_result"
    }
   ],
   "source": [
    "import pandas as pd\n",
    "df = pd.DataFrame(data[\"data\"])\n",
    "df.columns = column_names\n",
    "pd.options.display.max_columns = None\n",
    "#pd.options.display.max_rows = None\n",
    "#print(df.columns.tolist())\n",
    "df = df[[\"Question\",\"StratificationCategoryID1\",\"DataValueTypeID\",\"LocationDesc\",\"DataValue\"]]\n",
    "filtered_df = df[(df['StratificationCategoryID1'] == \"OVERALL\") & (df['DataValueTypeID'] == \"CRDPREV\") &\n",
    "                (df['Question'] == \"Current asthma prevalence among adults aged >= 18 years\") & \n",
    "                (df['LocationDesc'] != \"United States\")]\n",
    "filtered_df"
   ]
  },
  {
   "cell_type": "markdown",
   "metadata": {},
   "source": [
    "You should have 54 records after filtering.\n",
    "\n",
    "## Extract the Attributes Required for Plotting\n",
    "\n",
    "For each record, the only information we actually need for the graph is the `'DataValue'` and `'LocationDesc'`. Create a list of records that only contains these two attributes.\n",
    "\n",
    "Also, make sure that the data values are numbers, not strings."
   ]
  },
  {
   "cell_type": "code",
   "execution_count": 22,
   "metadata": {},
   "outputs": [
    {
     "name": "stdout",
     "output_type": "stream",
     "text": [
      "[('Alabama', 9.7), ('Alaska', 8.8), ('Arizona', 9.4), ('Arkansas', 8.5), ('California', 7.8), ('Colorado', 8.8), ('Connecticut', 10.5), ('Delaware', 8.5), ('District of Columbia', 9.8), ('Florida', 6.7), ('Georgia', 8.5), ('Hawaii', 10.7), ('Idaho', 9.3), ('Illinois', 8.9), ('Indiana', 10.2), ('Iowa', 7.8), ('Kansas', 8.8), ('Kentucky', 11.6), ('Louisiana', 8.3), ('Maine', 12.2), ('Maryland', 9.4), ('Massachusetts', 10.3), ('Michigan', 10.9), ('Minnesota', 7.6), ('Mississippi', 8.0), ('Missouri', 9.9), ('Montana', 8.5), ('Nebraska', 8.3), ('Nevada', 7.9), ('New Hampshire', 11.4), ('New Jersey', 8.2), ('New Mexico', 11.8), ('New York', 9.5), ('North Carolina', 8.0), ('North Dakota', 9.0), ('Ohio', 9.7), ('Oklahoma', 10.0), ('Oregon', 10.5), ('Pennsylvania', 10.6), ('Rhode Island', 10.7), ('South Carolina', 8.8), ('South Dakota', 6.2), ('Tennessee', 10.9), ('Texas', 7.6), ('Utah', 8.2), ('Vermont', 10.2), ('Virginia', 8.6), ('Washington', 9.6), ('West Virginia', 11.8), ('Wisconsin', 8.5), ('Wyoming', 9.5), ('Guam', 5.1), ('Puerto Rico', 10.7), ('Virgin Islands', 6.3)]\n"
     ]
    }
   ],
   "source": [
    "# Your code here (create additional cells as needed)\n",
    "\n",
    "DataValue_list = filtered_df['DataValue'].tolist()\n",
    "DataValue_list_mod = [float(i) for i in DataValue_list]\n",
    "\n",
    "LocationDesc_list = filtered_df['LocationDesc'].tolist()\n",
    "\n",
    "merged_list = list(zip(LocationDesc_list, DataValue_list_mod))\n",
    "\n",
    "print(merged_list)\n",
    "\n",
    "#print(DataValue_list_mod)\n",
    "#print(LocationDesc_list)"
   ]
  },
  {
   "cell_type": "markdown",
   "metadata": {},
   "source": [
    "## Find Top 10 States\n",
    "\n",
    "Sort by `'DataValue'` and limit to the first 10 records."
   ]
  },
  {
   "cell_type": "code",
   "execution_count": 23,
   "metadata": {},
   "outputs": [
    {
     "name": "stdout",
     "output_type": "stream",
     "text": [
      "[('Maine', 12.2), ('New Mexico', 11.8), ('West Virginia', 11.8), ('Kentucky', 11.6), ('New Hampshire', 11.4), ('Michigan', 10.9), ('Tennessee', 10.9), ('Hawaii', 10.7), ('Rhode Island', 10.7), ('Puerto Rico', 10.7)]\n"
     ]
    }
   ],
   "source": [
    "# Your code here (add additional cells as needed)\n",
    "\n",
    "sorted_merged_list = sorted(merged_list, key=lambda x: x[1] , reverse = True)\n",
    "top_10 = sorted_merged_list[:10]\n",
    "\n",
    "print(top_10)"
   ]
  },
  {
   "cell_type": "markdown",
   "metadata": {},
   "source": [
    "## Separate the Names and Values for Plotting\n",
    "\n",
    "Assign the names of the top 10 states to a list-like variable `names`, and the associated values to a list-like variable `values`. Then the plotting code below should work correctly to make the desired bar graph."
   ]
  },
  {
   "cell_type": "code",
   "execution_count": 24,
   "metadata": {},
   "outputs": [
    {
     "name": "stdout",
     "output_type": "stream",
     "text": [
      "['Maine', 'New Mexico', 'West Virginia', 'Kentucky', 'New Hampshire', 'Michigan', 'Tennessee', 'Hawaii', 'Rhode Island', 'Puerto Rico']\n",
      "[12.2, 11.8, 11.8, 11.6, 11.4, 10.9, 10.9, 10.7, 10.7, 10.7]\n"
     ]
    }
   ],
   "source": [
    "# Replace None with appropriate code\n",
    "\n",
    "names = [x[0] for x in top_10]\n",
    "values = [x[1] for x in top_10]\n",
    "\n",
    "print(names)\n",
    "print(values)"
   ]
  },
  {
   "cell_type": "code",
   "execution_count": 25,
   "metadata": {},
   "outputs": [
    {
     "data": {
      "image/png": "[encoded data removed]",
      "text/plain": [
       "<Figure size 432x288 with 1 Axes>"
      ]
     },
     "metadata": {
      "needs_background": "light"
     },
     "output_type": "display_data"
    }
   ],
   "source": [
    "# Run this cell without changes\n",
    "\n",
    "import matplotlib.pyplot as plt\n",
    "fig, ax = plt.subplots()\n",
    "\n",
    "ax.barh(names[::-1], values[::-1]) # Values inverted so highest is at top\n",
    "ax.set_title('Adult Asthma Rates by State in 2016')\n",
    "ax.set_xlabel('Percent 18+ with Asthma');"
   ]
  },
  {
   "cell_type": "markdown",
   "metadata": {},
   "source": [
    "## Summary\n",
    "\n",
    "In this lab you got some extended practice exploring the structure of JSON files and visualizing data."
   ]
  }
 ],
 "metadata": {
  "kernelspec": {
   "display_name": "Python (learn-env)",
   "language": "python",
   "name": "learn-env"
  },
  "language_info": {
   "codemirror_mode": {
    "name": "ipython",
    "version": 3
   },
   "file_extension": ".py",
   "mimetype": "text/x-python",
   "name": "python",
   "nbconvert_exporter": "python",
   "pygments_lexer": "ipython3",
   "version": "3.8.5"
  },
  "toc": {
   "base_numbering": 1,
   "nav_menu": {},
   "number_sections": true,
   "sideBar": true,
   "skip_h1_title": false,
   "title_cell": "Table of Contents",
   "title_sidebar": "Contents",
   "toc_cell": false,
   "toc_position": {},
   "toc_section_display": true,
   "toc_window_display": false
  }
 },
 "nbformat": 4,
 "nbformat_minor": 4
}
